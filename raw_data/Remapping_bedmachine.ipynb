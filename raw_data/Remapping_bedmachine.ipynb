{
 "cells": [
  {
   "cell_type": "markdown",
   "metadata": {},
   "source": [
    "# Remapping of bed machine Antarctica 1"
   ]
  },
  {
   "cell_type": "markdown",
   "metadata": {},
   "source": [
    "Coordinates is given in meters in a polar stereographic coordinate reference system. We need to create the corresponding longitude/latitude arrays using the PROJ library."
   ]
  },
  {
   "cell_type": "code",
   "execution_count": null,
   "metadata": {},
   "outputs": [],
   "source": [
    "import xarray as xr\n",
    "import numpy as np\n",
    "import matplotlib.pylab as plt\n",
    "import cartopy.crs as ccrs\n",
    "import xesmf"
   ]
  },
  {
   "cell_type": "code",
   "execution_count": null,
   "metadata": {},
   "outputs": [],
   "source": [
    "#%matplotlib qt\n",
    "%matplotlib inline"
   ]
  },
  {
   "cell_type": "code",
   "execution_count": null,
   "metadata": {},
   "outputs": [],
   "source": [
    "_ = xr.set_options(display_style='text')"
   ]
  },
  {
   "cell_type": "markdown",
   "metadata": {},
   "source": [
    "## Adding lon/lat from the CRS"
   ]
  },
  {
   "cell_type": "markdown",
   "metadata": {},
   "source": [
    "bedmachine coordinates are carthesian (in $m$, centered on the south pole) in a polar stereographic projection. To get the corresponding longitude/latitude, we use the inverse transformation from the CRS:"
   ]
  },
  {
   "cell_type": "markdown",
   "metadata": {},
   "source": [
    "The PROJ string is available here: \n",
    "    \n",
    "https://nsidc.org/data/NSIDC-0756/versions/1"
   ]
  },
  {
   "cell_type": "code",
   "execution_count": null,
   "metadata": {},
   "outputs": [],
   "source": [
    "PROJSTRING=\"+proj=stere +lat_0=-90 +lat_ts=-71 +lon_0=0 +k=1 +x_0=0 +y_0=0 +datum=WGS84 +units=m +no_defs\""
   ]
  },
  {
   "cell_type": "markdown",
   "metadata": {},
   "source": [
    "Write a function to compute the longitude and latitude using the inverse transformation from the CRS:"
   ]
  },
  {
   "cell_type": "code",
   "execution_count": null,
   "metadata": {},
   "outputs": [],
   "source": [
    "def add_lon_lat(ds, PROJSTRING, x='x', y='y', chunks={}):\n",
    "    \"\"\" add longitude and latitude as compute from the inverse projection\n",
    "    given in PROJSTRING\n",
    "    \n",
    "    PARAMETERS:\n",
    "    -----------\n",
    "    ds: xarray.Dataset\n",
    "    \n",
    "    PROJSTRING: str\n",
    "    \n",
    "    \"\"\"\n",
    "    from pyproj import CRS, Transformer\n",
    "    # create the coordinate reference system\n",
    "    crs = CRS.from_proj4(PROJSTRING)\n",
    "    # create the projection from lon/lat to x/y\n",
    "    proj = Transformer.from_crs(crs.geodetic_crs, crs)\n",
    "    # make x,y 2d arrays\n",
    "    xx, yy = np.meshgrid(ds[x].values, ds[y].values)\n",
    "    # compute the lon/lat\n",
    "    lon, lat = proj.transform(xx, yy, direction='INVERSE')\n",
    "    # add to dataset\n",
    "    ds['lon'] = xr.DataArray(data=lon, dims=('y', 'x'))\n",
    "    ds['lat'] = xr.DataArray(data=lat, dims=('y', 'x'))\n",
    "    ds['lon'].attrs = dict(units='degrees_east')\n",
    "    ds['lat'].attrs = dict(units='degrees_north')\n",
    "    return ds"
   ]
  },
  {
   "cell_type": "markdown",
   "metadata": {},
   "source": [
    "Fist time computing lon/lat takes about 2 minutes. Write the results into a new file. Next time, we can just load the file:"
   ]
  },
  {
   "cell_type": "code",
   "execution_count": null,
   "metadata": {},
   "outputs": [],
   "source": [
    "compute_geo=False"
   ]
  },
  {
   "cell_type": "code",
   "execution_count": null,
   "metadata": {},
   "outputs": [],
   "source": [
    "%%time\n",
    "\n",
    "if compute_geo:\n",
    "    bedmachine = xr.open_dataset('BedMachineAntarctica_2019-11-05_v01.nc')\n",
    "    # this should take a couple of minutes\n",
    "    bedmachine = add_lon_lat(bedmachine, PROJSTRING)\n",
    "    bedmachine = bedmachine.assign_coords({'lon': bedmachine.lon,\n",
    "                                           'lat': bedmachine.lat})\n",
    "    bedmachine.to_netcdf('bedmachine+geo.nc', format='NETCDF3_64BIT')\n",
    "else:\n",
    "    bedmachine = xr.open_dataset('bedmachine+geo.nc')"
   ]
  },
  {
   "cell_type": "code",
   "execution_count": null,
   "metadata": {},
   "outputs": [],
   "source": [
    "bedmachine"
   ]
  },
  {
   "cell_type": "markdown",
   "metadata": {},
   "source": [
    "## Computing the elevation referenced to WGS84\n",
    "\n",
    "[online doc](https://sites.uci.edu/morlighem/dataproducts/bedmachine-antarctica/) states: *All heights are referenced to mean sea level (using the geoid EIGEN-6C4). To convert the heights to heights referenced to the WGS84 ellipsoid, simply add the geoid height:*\n",
    "\n",
    "$$ z_{ellipsoid}=z_{geoid}+geoid$$\n",
    "\n",
    "which translates into:"
   ]
  },
  {
   "cell_type": "code",
   "execution_count": null,
   "metadata": {},
   "outputs": [],
   "source": [
    "bedmachine['elevation'] = bedmachine['bed'] + bedmachine['geoid']"
   ]
  },
  {
   "cell_type": "markdown",
   "metadata": {},
   "source": [
    "## Comparison with GEBCOv2"
   ]
  },
  {
   "cell_type": "code",
   "execution_count": null,
   "metadata": {},
   "outputs": [],
   "source": [
    "gebco = xr.open_dataset('/archive/gold/datasets/topography/GEBCO_2020/GEBCO_2020.nc')"
   ]
  },
  {
   "cell_type": "code",
   "execution_count": null,
   "metadata": {},
   "outputs": [],
   "source": [
    "gebco"
   ]
  },
  {
   "cell_type": "markdown",
   "metadata": {},
   "source": [
    "For plotting, we don't need to use the full resolution of the datasets so we coarsen the datasets:"
   ]
  },
  {
   "cell_type": "code",
   "execution_count": null,
   "metadata": {},
   "outputs": [],
   "source": [
    "gebco_topo_subsample = gebco.elevation.coarsen(lon=100, lat=100).mean()"
   ]
  },
  {
   "cell_type": "code",
   "execution_count": null,
   "metadata": {},
   "outputs": [],
   "source": [
    "subplot_kws=dict(projection=ccrs.SouthPolarStereo(central_longitude=-120.),\n",
    "                 facecolor='grey')\n",
    "\n",
    "plt.figure(figsize=[12,8])\n",
    "p = gebco_topo_subsample.plot(x='lon', y='lat',\n",
    "                              vmin=-6000, vmax=6000,\n",
    "                              cmap='bwr',\n",
    "                              subplot_kws=subplot_kws,\n",
    "                              transform=ccrs.PlateCarree(),\n",
    "                              add_labels=False,\n",
    "                              add_colorbar=True)\n",
    "\n",
    "p.axes.gridlines(color='black', alpha=0.5, linestyle='--')\n",
    "p.axes.set_extent([-300, 60, -60, -90], ccrs.PlateCarree())\n",
    "p.axes.set_title('GEBCO2')"
   ]
  },
  {
   "cell_type": "code",
   "execution_count": null,
   "metadata": {},
   "outputs": [],
   "source": [
    "# round up for coarsening\n",
    "start=0\n",
    "end=13000\n",
    "\n",
    "bedtmp = bedmachine.isel(x=slice(start,end),\n",
    "                         y=slice(start,end))\n",
    "                         \n",
    "\n",
    "bedmachine_bed_subsample = bedtmp.elevation.coarsen(x=50, y=50).mean()\n",
    "\n",
    "\n",
    "bedmachine_bed_subsample['lon'] = xr.DataArray(bedtmp['lon'].values[::50,::50],\n",
    "                                               dims=('y', 'x'))\n",
    "bedmachine_bed_subsample['lat'] = xr.DataArray(bedtmp['lat'].values[::50,::50],\n",
    "                                               dims=('y', 'x'))\n",
    "\n",
    "subplot_kws=dict(projection=ccrs.SouthPolarStereo(central_longitude=-120.),\n",
    "                 facecolor='grey')\n",
    "\n",
    "plt.figure(figsize=[12,8])\n",
    "p = bedmachine_bed_subsample.plot(x='lon', y='lat',\n",
    "                                  vmin=-6000, vmax=6000,\n",
    "                                  cmap='bwr',\n",
    "                                  subplot_kws=subplot_kws,\n",
    "                                  transform=ccrs.PlateCarree(),\n",
    "                                  add_labels=False,\n",
    "                                  add_colorbar=True)\n",
    "\n",
    "p.axes.gridlines(color='black', alpha=0.5, linestyle='--')\n",
    "p.axes.set_extent([-300, 60, -60, -90], ccrs.PlateCarree())\n",
    "p.axes.set_title('Bedmachine bedrock, ref to WGS84')"
   ]
  },
  {
   "cell_type": "markdown",
   "metadata": {},
   "source": [
    "## Remapping onto GEBCOv2 grid:"
   ]
  },
  {
   "cell_type": "markdown",
   "metadata": {},
   "source": [
    "Because of the bedmachine projection geometry, we can only remap bedmachine south of 62S.\n",
    "\n",
    "To be computationally efficient, we subset the coordinates of the GEBCO grid south of 62S:"
   ]
  },
  {
   "cell_type": "code",
   "execution_count": null,
   "metadata": {},
   "outputs": [],
   "source": [
    "gebco_SO = gebco.sel(lat=slice(-90, -62))"
   ]
  },
  {
   "cell_type": "code",
   "execution_count": null,
   "metadata": {},
   "outputs": [],
   "source": [
    "gebco_SO['lon'].attrs = dict(units='degrees_east')\n",
    "gebco_SO['lat'].attrs = dict(units='degrees_north')"
   ]
  },
  {
   "cell_type": "markdown",
   "metadata": {},
   "source": [
    "The regridding is too big to be done in a reasonable time without a HPC system. On a HPC with ESMF installed (e.g. using conda + install ESMF/ESMPy packages), we can use the parallel weights generation tool and an example invocation is:"
   ]
  },
  {
   "cell_type": "raw",
   "metadata": {},
   "source": [
    "mpirun -np 252 ESMF_RegridWeightGen -s grid_bedmachineAnt.nc -d grid_gebco_southof62.nc -m neareststod -w nearest_weights_srcR.nc --netcdf4 --src_regional"
   ]
  },
  {
   "cell_type": "markdown",
   "metadata": {},
   "source": [
    "the weight generation has its own [github](https://github.com/raphaeldussin/regrid_weights_bedmachine_gebco)/[gitlab](https://gitlab.gfdl.noaa.gov/ogrp/regrid_weights_bedmachine_gebco) repos and results were stored on PPAN:"
   ]
  },
  {
   "cell_type": "code",
   "execution_count": null,
   "metadata": {},
   "outputs": [],
   "source": [
    "weightsdir = '/work/Raphael.Dussin/weights_save/bedmachine_gebco_gaea'"
   ]
  },
  {
   "cell_type": "markdown",
   "metadata": {},
   "source": [
    "Once the weights are created, we can use them within xESMF:"
   ]
  },
  {
   "cell_type": "code",
   "execution_count": null,
   "metadata": {},
   "outputs": [],
   "source": [
    "%%time\n",
    "\n",
    "regrid = xesmf.Regridder(bedmachine, gebco_SO,\n",
    "                         method='nearest_s2d',\n",
    "                         periodic=False,\n",
    "                         reuse_weights=True,\n",
    "                         filename=f'{weightsdir}/nearest_weights_srcR.nc')"
   ]
  },
  {
   "cell_type": "markdown",
   "metadata": {},
   "source": [
    "And create the remapped elevation:"
   ]
  },
  {
   "cell_type": "code",
   "execution_count": null,
   "metadata": {},
   "outputs": [],
   "source": [
    "%%time\n",
    "\n",
    "bedmachine_remapped = xr.Dataset()\n",
    "\n",
    "bedmachine_remapped['elevation'] = regrid(bedmachine['elevation'])\n",
    "\n",
    "# gebco is given in type short, which basically is equivalent to integer values,\n",
    "# hence no need to save decimal points...\n",
    "encoding = {'elevation': {'dtype': np.int16}}\n",
    "bedmachine_remapped.to_netcdf('BedMachineAntarctica_elevation_nn_gebco2020.nc',\n",
    "                              encoding=encoding, format='NETCDF3_64BIT',\n",
    "                              engine='netcdf4')"
   ]
  },
  {
   "cell_type": "code",
   "execution_count": null,
   "metadata": {},
   "outputs": [],
   "source": [
    "%%time\n",
    "\n",
    "remap_extras=False\n",
    "\n",
    "if remap_extras:\n",
    "    bedmachine_remapped_extras = xr.Dataset()\n",
    "    for var in ['bed', 'firn', 'surface', 'thickness', 'geoid']:\n",
    "        bedmachine_remapped_extras[var] = regrid(bedmachine[var])\n",
    "    bedmachine_remapped_extras.to_netcdf('BedMachineAntarctica_regridded_nn_gebco2020.nc')"
   ]
  },
  {
   "cell_type": "code",
   "execution_count": null,
   "metadata": {},
   "outputs": [],
   "source": [
    "plt.figure(figsize=[12,8])\n",
    "bedmachine_remapped['elevation'].plot()"
   ]
  },
  {
   "cell_type": "markdown",
   "metadata": {},
   "source": [
    "The resulting remapping passes the eyeball test. To be certain we can plot the difference with gebco:"
   ]
  },
  {
   "cell_type": "code",
   "execution_count": null,
   "metadata": {},
   "outputs": [],
   "source": [
    "plt.figure(figsize=[12,8])\n",
    "diffbathy = bedmachine_remapped['elevation'].astype(np.int16) - gebco_SO['elevation']\n",
    "diffbathy.plot()"
   ]
  },
  {
   "cell_type": "markdown",
   "metadata": {},
   "source": [
    "This shows clearly the difference between bedmachine bedrock and gebco \"top of the ice\" elevation. Focusing on the northern part of the domain, where the merging will happen, we don't notice any suspicious mismatch (just noise)"
   ]
  },
  {
   "cell_type": "code",
   "execution_count": null,
   "metadata": {},
   "outputs": [],
   "source": [
    "plt.figure(figsize=[12,8])\n",
    "diffbathy.sel(lat=slice(-65,-62)).plot(vmin=-100, vmax=100, cmap='bwr')"
   ]
  },
  {
   "cell_type": "markdown",
   "metadata": {},
   "source": [
    "Continue to merge bathy..."
   ]
  }
 ],
 "metadata": {
  "kernelspec": {
   "display_name": "Py3-repro4",
   "language": "python",
   "name": "repro"
  },
  "language_info": {
   "codemirror_mode": {
    "name": "ipython",
    "version": 3
   },
   "file_extension": ".py",
   "mimetype": "text/x-python",
   "name": "python",
   "nbconvert_exporter": "python",
   "pygments_lexer": "ipython3",
   "version": "3.8.5"
  }
 },
 "nbformat": 4,
 "nbformat_minor": 4
}
